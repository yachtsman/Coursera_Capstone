{
  "nbformat": 4,
  "nbformat_minor": 0,
  "metadata": {
    "colab": {
      "name": "Segmenting and Clustering Neighborhoods in Toronto.ipynb",
      "provenance": [],
      "collapsed_sections": [],
      "toc_visible": true,
      "mount_file_id": "https://github.com/yachtsman/Coursera_Capstone/blob/master/Segmenting_and_Clustering_Neighborhoods_in_Toronto.ipynb",
      "authorship_tag": "ABX9TyOiDknpUo7Q+LVKplAZVz/w",
      "include_colab_link": true
    },
    "kernelspec": {
      "name": "python3",
      "display_name": "Python 3"
    }
  },
  "cells": [
    {
      "cell_type": "markdown",
      "metadata": {
        "id": "view-in-github",
        "colab_type": "text"
      },
      "source": [
        "<a href=\"https://colab.research.google.com/github/yachtsman/Coursera_Capstone/blob/master/Segmenting_and_Clustering_Neighborhoods_in_Toronto.ipynb\" target=\"_parent\"><img src=\"https://colab.research.google.com/assets/colab-badge.svg\" alt=\"Open In Colab\"/></a>"
      ]
    },
    {
      "cell_type": "markdown",
      "metadata": {
        "id": "-5B91mn6Bgej",
        "colab_type": "text"
      },
      "source": [
        "## Segmenting and Clustering Neighborhoods in Toronto"
      ]
    },
    {
      "cell_type": "markdown",
      "metadata": {
        "id": "0SSt6N4podkp",
        "colab_type": "text"
      },
      "source": [
        "# Mining and structuring the data\n",
        "\n",
        "1.   Creating a new notebook\n",
        "2.   Scraping data from Wikipedia\n",
        "3.   Creating the dataframe\n",
        "4.   Submiting the link on Github\n",
        "\n",
        "\n",
        "\n"
      ]
    },
    {
      "cell_type": "markdown",
      "metadata": {
        "id": "d3vfvMJKjrgp",
        "colab_type": "text"
      },
      "source": [
        "1. Creating a new notebook\n",
        "\n",
        "Importing basic dependencies"
      ]
    },
    {
      "cell_type": "code",
      "metadata": {
        "id": "4CA51CDwBkPZ",
        "colab_type": "code",
        "colab": {
          "base_uri": "https://localhost:8080/",
          "height": 34
        },
        "outputId": "11ebc343-4e40-43c1-a719-102463b60d60"
      },
      "source": [
        "import pandas as pd\n",
        "import numpy as np\n",
        "print('basic dependencies imported')"
      ],
      "execution_count": 1,
      "outputs": [
        {
          "output_type": "stream",
          "text": [
            "basic dependencies imported\n"
          ],
          "name": "stdout"
        }
      ]
    },
    {
      "cell_type": "markdown",
      "metadata": {
        "id": "YVZmw0iXj4EW",
        "colab_type": "text"
      },
      "source": [
        "2. Scraping data from wikipedia"
      ]
    },
    {
      "cell_type": "code",
      "metadata": {
        "id": "2DI8fG17Ez7G",
        "colab_type": "code",
        "colab": {
          "base_uri": "https://localhost:8080/",
          "height": 34
        },
        "outputId": "740c20e5-f987-4c25-b8a3-67bc4deaec8c"
      },
      "source": [
        "from bs4 import BeautifulSoup\n",
        "import requests\n",
        "#from urllib.request import urlopen\n",
        "#import csv\n",
        "\n",
        "print('BeautifulSoup is imported.')"
      ],
      "execution_count": 2,
      "outputs": [
        {
          "output_type": "stream",
          "text": [
            "BeautifulSoup is imported.\n"
          ],
          "name": "stdout"
        }
      ]
    },
    {
      "cell_type": "code",
      "metadata": {
        "id": "pFccBTMPJcTj",
        "colab_type": "code",
        "colab": {
          "base_uri": "https://localhost:8080/",
          "height": 34
        },
        "outputId": "b93bfcb5-a1be-4182-827a-d5781999f9c4"
      },
      "source": [
        "wiki_url = requests.get('https://en.wikipedia.org/wiki/List_of_postal_codes_of_Canada:_M').text\n",
        "soup = BeautifulSoup(wiki_url,'lxml')\n",
        "print('soup cooked')"
      ],
      "execution_count": 3,
      "outputs": [
        {
          "output_type": "stream",
          "text": [
            "soup cooked\n"
          ],
          "name": "stdout"
        }
      ]
    },
    {
      "cell_type": "code",
      "metadata": {
        "id": "y94ecqTzY0vu",
        "colab_type": "code",
        "colab": {}
      },
      "source": [
        "wiki_table = soup.find('table',{'class':'wikitable sortable'})\n",
        "wiki_rows = wiki_table.find_all('tr')\n",
        "#wiki_rows"
      ],
      "execution_count": 4,
      "outputs": []
    },
    {
      "cell_type": "markdown",
      "metadata": {
        "id": "k8GtGZHCn1lE",
        "colab_type": "text"
      },
      "source": [
        "3. Creating the dataframe"
      ]
    },
    {
      "cell_type": "code",
      "metadata": {
        "id": "nvE2b-riZEYW",
        "colab_type": "code",
        "colab": {
          "base_uri": "https://localhost:8080/",
          "height": 134
        },
        "outputId": "f671ab04-6d57-4841-a2c5-26ec59310cba"
      },
      "source": [
        "data = []\n",
        "for row in wiki_rows:\n",
        "    data.append([t.text.strip()\n",
        "    for t in row.find_all('td')]\n",
        "    )\n",
        "df = pd.DataFrame(data, columns=['PostalCode', 'Borough', 'Neighbourhood'])\n",
        "df.drop([0], inplace=True) # to skip first rows 'none' \n",
        "print(df.head())\n",
        "print(df.shape)"
      ],
      "execution_count": 6,
      "outputs": [
        {
          "output_type": "stream",
          "text": [
            "  PostalCode           Borough              Neighbourhood\n",
            "1        M1A      Not assigned               Not assigned\n",
            "2        M2A      Not assigned               Not assigned\n",
            "3        M3A        North York                  Parkwoods\n",
            "4        M4A        North York           Victoria Village\n",
            "5        M5A  Downtown Toronto  Regent Park, Harbourfront\n",
            "(180, 3)\n"
          ],
          "name": "stdout"
        }
      ]
    },
    {
      "cell_type": "markdown",
      "metadata": {
        "id": "cZPpoIxEjghM",
        "colab_type": "text"
      },
      "source": [
        "Cleaning  the 'Not assigned' rows"
      ]
    },
    {
      "cell_type": "code",
      "metadata": {
        "id": "QkjeHAnVkI8t",
        "colab_type": "code",
        "colab": {
          "base_uri": "https://localhost:8080/",
          "height": 134
        },
        "outputId": "239e61e0-3f1b-4658-a803-b76f413ac2ae"
      },
      "source": [
        "df1 = df[df['Borough'] != 'Not assigned'].reset_index(drop=True) # to filter out 'Not assigned' rows\n",
        "print(df1.head())\n",
        "print(df1.shape)"
      ],
      "execution_count": 7,
      "outputs": [
        {
          "output_type": "stream",
          "text": [
            "  PostalCode           Borough                                Neighbourhood\n",
            "0        M3A        North York                                    Parkwoods\n",
            "1        M4A        North York                             Victoria Village\n",
            "2        M5A  Downtown Toronto                    Regent Park, Harbourfront\n",
            "3        M6A        North York             Lawrence Manor, Lawrence Heights\n",
            "4        M7A  Downtown Toronto  Queen's Park, Ontario Provincial Government\n",
            "(103, 3)\n"
          ],
          "name": "stdout"
        }
      ]
    },
    {
      "cell_type": "markdown",
      "metadata": {
        "id": "AsEo_bCyjCjw",
        "colab_type": "text"
      },
      "source": [
        "combinig the Neighborhoods with the equal postal codes "
      ]
    },
    {
      "cell_type": "code",
      "metadata": {
        "id": "TSl-P3ofjb0E",
        "colab_type": "code",
        "colab": {
          "base_uri": "https://localhost:8080/",
          "height": 151
        },
        "outputId": "0d93db0b-e749-4737-b137-95a68f79f659"
      },
      "source": [
        "df2= df1.groupby('PostalCode').agg(lambda x: ','.join(x))\n",
        "print(df2.head())\n",
        "print(df2.shape)"
      ],
      "execution_count": 8,
      "outputs": [
        {
          "output_type": "stream",
          "text": [
            "                Borough                           Neighbourhood\n",
            "PostalCode                                                     \n",
            "M1B         Scarborough                          Malvern, Rouge\n",
            "M1C         Scarborough  Rouge Hill, Port Union, Highland Creek\n",
            "M1E         Scarborough       Guildwood, Morningside, West Hill\n",
            "M1G         Scarborough                                  Woburn\n",
            "M1H         Scarborough                               Cedarbrae\n",
            "(103, 2)\n"
          ],
          "name": "stdout"
        }
      ]
    },
    {
      "cell_type": "code",
      "metadata": {
        "id": "vfJbSrGfkUAe",
        "colab_type": "code",
        "colab": {}
      },
      "source": [
        "df2.loc[df2['Neighbourhood']==\"Not assigned\",'Neighbourhood']=df2.loc[df2['Neighbourhood']==\"Not assigned\",'Borough']\n",
        "df3 = df2.reset_index()"
      ],
      "execution_count": 9,
      "outputs": []
    },
    {
      "cell_type": "code",
      "metadata": {
        "id": "BrofsOm1khcA",
        "colab_type": "code",
        "colab": {
          "base_uri": "https://localhost:8080/",
          "height": 420
        },
        "outputId": "6e9468fd-1e25-412d-99b9-ed2ac17f2632"
      },
      "source": [
        "df3['Borough']= df3['Borough'].str.replace('nan|[{}\\s]','').str.split(',').apply(set).str.join(',').str.strip(',').str.replace(\",{2,}\",\",\")\n",
        "print('The final cleaned table looks like:')\n",
        "print(df3.head(20))\n",
        "print('with the shape:')\n",
        "print(df3.shape)"
      ],
      "execution_count": 10,
      "outputs": [
        {
          "output_type": "stream",
          "text": [
            "The final cleaned table looks like:\n",
            "   PostalCode      Borough                                      Neighbourhood\n",
            "0         M1B  Scarborough                                     Malvern, Rouge\n",
            "1         M1C  Scarborough             Rouge Hill, Port Union, Highland Creek\n",
            "2         M1E  Scarborough                  Guildwood, Morningside, West Hill\n",
            "3         M1G  Scarborough                                             Woburn\n",
            "4         M1H  Scarborough                                          Cedarbrae\n",
            "5         M1J  Scarborough                                Scarborough Village\n",
            "6         M1K  Scarborough        Kennedy Park, Ionview, East Birchmount Park\n",
            "7         M1L  Scarborough                    Golden Mile, Clairlea, Oakridge\n",
            "8         M1M  Scarborough    Cliffside, Cliffcrest, Scarborough Village West\n",
            "9         M1N  Scarborough                        Birch Cliff, Cliffside West\n",
            "10        M1P  Scarborough  Dorset Park, Wexford Heights, Scarborough Town...\n",
            "11        M1R  Scarborough                                  Wexford, Maryvale\n",
            "12        M1S  Scarborough                                          Agincourt\n",
            "13        M1T  Scarborough            Clarks Corners, Tam O'Shanter, Sullivan\n",
            "14        M1V  Scarborough  Milliken, Agincourt North, Steeles East, L'Amo...\n",
            "15        M1W  Scarborough                      Steeles West, L'Amoreaux West\n",
            "16        M1X  Scarborough                                        Upper Rouge\n",
            "17        M2H    NorthYork                                  Hillcrest Village\n",
            "18        M2J    NorthYork                       Fairview, Henry Farm, Oriole\n",
            "19        M2K    NorthYork                                    Bayview Village\n",
            "with the shape:\n",
            "(103, 3)\n"
          ],
          "name": "stdout"
        }
      ]
    },
    {
      "cell_type": "code",
      "metadata": {
        "id": "nVwMSLuu0Ub7",
        "colab_type": "code",
        "colab": {
          "base_uri": "https://localhost:8080/",
          "height": 402
        },
        "outputId": "c96c3318-0ef2-4995-e1ad-4d4e030f60ee"
      },
      "source": [
        "df3"
      ],
      "execution_count": 16,
      "outputs": [
        {
          "output_type": "execute_result",
          "data": {
            "text/html": [
              "<div>\n",
              "<style scoped>\n",
              "    .dataframe tbody tr th:only-of-type {\n",
              "        vertical-align: middle;\n",
              "    }\n",
              "\n",
              "    .dataframe tbody tr th {\n",
              "        vertical-align: top;\n",
              "    }\n",
              "\n",
              "    .dataframe thead th {\n",
              "        text-align: right;\n",
              "    }\n",
              "</style>\n",
              "<table border=\"1\" class=\"dataframe\">\n",
              "  <thead>\n",
              "    <tr style=\"text-align: right;\">\n",
              "      <th></th>\n",
              "      <th>PostalCode</th>\n",
              "      <th>Borough</th>\n",
              "      <th>Neighbourhood</th>\n",
              "    </tr>\n",
              "  </thead>\n",
              "  <tbody>\n",
              "    <tr>\n",
              "      <th>0</th>\n",
              "      <td>M1B</td>\n",
              "      <td>Scarborough</td>\n",
              "      <td>Malvern, Rouge</td>\n",
              "    </tr>\n",
              "    <tr>\n",
              "      <th>1</th>\n",
              "      <td>M1C</td>\n",
              "      <td>Scarborough</td>\n",
              "      <td>Rouge Hill, Port Union, Highland Creek</td>\n",
              "    </tr>\n",
              "    <tr>\n",
              "      <th>2</th>\n",
              "      <td>M1E</td>\n",
              "      <td>Scarborough</td>\n",
              "      <td>Guildwood, Morningside, West Hill</td>\n",
              "    </tr>\n",
              "    <tr>\n",
              "      <th>3</th>\n",
              "      <td>M1G</td>\n",
              "      <td>Scarborough</td>\n",
              "      <td>Woburn</td>\n",
              "    </tr>\n",
              "    <tr>\n",
              "      <th>4</th>\n",
              "      <td>M1H</td>\n",
              "      <td>Scarborough</td>\n",
              "      <td>Cedarbrae</td>\n",
              "    </tr>\n",
              "    <tr>\n",
              "      <th>...</th>\n",
              "      <td>...</td>\n",
              "      <td>...</td>\n",
              "      <td>...</td>\n",
              "    </tr>\n",
              "    <tr>\n",
              "      <th>98</th>\n",
              "      <td>M9N</td>\n",
              "      <td>York</td>\n",
              "      <td>Weston</td>\n",
              "    </tr>\n",
              "    <tr>\n",
              "      <th>99</th>\n",
              "      <td>M9P</td>\n",
              "      <td>Etobicoke</td>\n",
              "      <td>Westmount</td>\n",
              "    </tr>\n",
              "    <tr>\n",
              "      <th>100</th>\n",
              "      <td>M9R</td>\n",
              "      <td>Etobicoke</td>\n",
              "      <td>Kingsview Village, St. Phillips, Martin Grove ...</td>\n",
              "    </tr>\n",
              "    <tr>\n",
              "      <th>101</th>\n",
              "      <td>M9V</td>\n",
              "      <td>Etobicoke</td>\n",
              "      <td>South Steeles, Silverstone, Humbergate, Jamest...</td>\n",
              "    </tr>\n",
              "    <tr>\n",
              "      <th>102</th>\n",
              "      <td>M9W</td>\n",
              "      <td>Etobicoke</td>\n",
              "      <td>Northwest, West Humber - Clairville</td>\n",
              "    </tr>\n",
              "  </tbody>\n",
              "</table>\n",
              "<p>103 rows × 3 columns</p>\n",
              "</div>"
            ],
            "text/plain": [
              "    PostalCode      Borough                                      Neighbourhood\n",
              "0          M1B  Scarborough                                     Malvern, Rouge\n",
              "1          M1C  Scarborough             Rouge Hill, Port Union, Highland Creek\n",
              "2          M1E  Scarborough                  Guildwood, Morningside, West Hill\n",
              "3          M1G  Scarborough                                             Woburn\n",
              "4          M1H  Scarborough                                          Cedarbrae\n",
              "..         ...          ...                                                ...\n",
              "98         M9N         York                                             Weston\n",
              "99         M9P    Etobicoke                                          Westmount\n",
              "100        M9R    Etobicoke  Kingsview Village, St. Phillips, Martin Grove ...\n",
              "101        M9V    Etobicoke  South Steeles, Silverstone, Humbergate, Jamest...\n",
              "102        M9W    Etobicoke                Northwest, West Humber - Clairville\n",
              "\n",
              "[103 rows x 3 columns]"
            ]
          },
          "metadata": {
            "tags": []
          },
          "execution_count": 16
        }
      ]
    },
    {
      "cell_type": "markdown",
      "metadata": {
        "id": "CAot-rGNpuST",
        "colab_type": "text"
      },
      "source": [
        "# Adding the latitude and the longitude coordinates of each neighborhood"
      ]
    },
    {
      "cell_type": "code",
      "metadata": {
        "id": "zpUOBFr6oYSZ",
        "colab_type": "code",
        "colab": {}
      },
      "source": [
        "csv_path = 'https://cocl.us/Geospatial_data'\n",
        "df4 = pd.read_csv(csv_path)"
      ],
      "execution_count": 12,
      "outputs": []
    },
    {
      "cell_type": "code",
      "metadata": {
        "id": "p04jJ80-wvA_",
        "colab_type": "code",
        "colab": {
          "base_uri": "https://localhost:8080/",
          "height": 386
        },
        "outputId": "3d2ba600-3ba7-41dd-8960-afb4e4d00720"
      },
      "source": [
        "print(df4.head(20))\n",
        "print(df4.shape)"
      ],
      "execution_count": 13,
      "outputs": [
        {
          "output_type": "stream",
          "text": [
            "   Postal Code   Latitude  Longitude\n",
            "0          M1B  43.806686 -79.194353\n",
            "1          M1C  43.784535 -79.160497\n",
            "2          M1E  43.763573 -79.188711\n",
            "3          M1G  43.770992 -79.216917\n",
            "4          M1H  43.773136 -79.239476\n",
            "5          M1J  43.744734 -79.239476\n",
            "6          M1K  43.727929 -79.262029\n",
            "7          M1L  43.711112 -79.284577\n",
            "8          M1M  43.716316 -79.239476\n",
            "9          M1N  43.692657 -79.264848\n",
            "10         M1P  43.757410 -79.273304\n",
            "11         M1R  43.750072 -79.295849\n",
            "12         M1S  43.794200 -79.262029\n",
            "13         M1T  43.781638 -79.304302\n",
            "14         M1V  43.815252 -79.284577\n",
            "15         M1W  43.799525 -79.318389\n",
            "16         M1X  43.836125 -79.205636\n",
            "17         M2H  43.803762 -79.363452\n",
            "18         M2J  43.778517 -79.346556\n",
            "19         M2K  43.786947 -79.385975\n",
            "(103, 3)\n"
          ],
          "name": "stdout"
        }
      ]
    },
    {
      "cell_type": "code",
      "metadata": {
        "id": "ZZwESe81zmBs",
        "colab_type": "code",
        "colab": {
          "base_uri": "https://localhost:8080/",
          "height": 195
        },
        "outputId": "6a1eda35-91e2-430b-ce6f-920981b94c4f"
      },
      "source": [
        "df4.rename(columns={'Postal Code': 'PostalCode'}, inplace=True)\n",
        "df4.head()"
      ],
      "execution_count": 15,
      "outputs": [
        {
          "output_type": "execute_result",
          "data": {
            "text/html": [
              "<div>\n",
              "<style scoped>\n",
              "    .dataframe tbody tr th:only-of-type {\n",
              "        vertical-align: middle;\n",
              "    }\n",
              "\n",
              "    .dataframe tbody tr th {\n",
              "        vertical-align: top;\n",
              "    }\n",
              "\n",
              "    .dataframe thead th {\n",
              "        text-align: right;\n",
              "    }\n",
              "</style>\n",
              "<table border=\"1\" class=\"dataframe\">\n",
              "  <thead>\n",
              "    <tr style=\"text-align: right;\">\n",
              "      <th></th>\n",
              "      <th>PostalCode</th>\n",
              "      <th>Latitude</th>\n",
              "      <th>Longitude</th>\n",
              "    </tr>\n",
              "  </thead>\n",
              "  <tbody>\n",
              "    <tr>\n",
              "      <th>0</th>\n",
              "      <td>M1B</td>\n",
              "      <td>43.806686</td>\n",
              "      <td>-79.194353</td>\n",
              "    </tr>\n",
              "    <tr>\n",
              "      <th>1</th>\n",
              "      <td>M1C</td>\n",
              "      <td>43.784535</td>\n",
              "      <td>-79.160497</td>\n",
              "    </tr>\n",
              "    <tr>\n",
              "      <th>2</th>\n",
              "      <td>M1E</td>\n",
              "      <td>43.763573</td>\n",
              "      <td>-79.188711</td>\n",
              "    </tr>\n",
              "    <tr>\n",
              "      <th>3</th>\n",
              "      <td>M1G</td>\n",
              "      <td>43.770992</td>\n",
              "      <td>-79.216917</td>\n",
              "    </tr>\n",
              "    <tr>\n",
              "      <th>4</th>\n",
              "      <td>M1H</td>\n",
              "      <td>43.773136</td>\n",
              "      <td>-79.239476</td>\n",
              "    </tr>\n",
              "  </tbody>\n",
              "</table>\n",
              "</div>"
            ],
            "text/plain": [
              "  PostalCode   Latitude  Longitude\n",
              "0        M1B  43.806686 -79.194353\n",
              "1        M1C  43.784535 -79.160497\n",
              "2        M1E  43.763573 -79.188711\n",
              "3        M1G  43.770992 -79.216917\n",
              "4        M1H  43.773136 -79.239476"
            ]
          },
          "metadata": {
            "tags": []
          },
          "execution_count": 15
        }
      ]
    },
    {
      "cell_type": "code",
      "metadata": {
        "id": "ESG8e8yJ0G0f",
        "colab_type": "code",
        "colab": {
          "base_uri": "https://localhost:8080/",
          "height": 195
        },
        "outputId": "2d84b232-e9ff-459e-885c-5b79c35ac7f9"
      },
      "source": [
        "df_geo = pd.merge(df3, df4, how='inner')\n",
        "\n",
        "df_geo.head()"
      ],
      "execution_count": 23,
      "outputs": [
        {
          "output_type": "execute_result",
          "data": {
            "text/html": [
              "<div>\n",
              "<style scoped>\n",
              "    .dataframe tbody tr th:only-of-type {\n",
              "        vertical-align: middle;\n",
              "    }\n",
              "\n",
              "    .dataframe tbody tr th {\n",
              "        vertical-align: top;\n",
              "    }\n",
              "\n",
              "    .dataframe thead th {\n",
              "        text-align: right;\n",
              "    }\n",
              "</style>\n",
              "<table border=\"1\" class=\"dataframe\">\n",
              "  <thead>\n",
              "    <tr style=\"text-align: right;\">\n",
              "      <th></th>\n",
              "      <th>PostalCode</th>\n",
              "      <th>Borough</th>\n",
              "      <th>Neighbourhood</th>\n",
              "      <th>Latitude</th>\n",
              "      <th>Longitude</th>\n",
              "    </tr>\n",
              "  </thead>\n",
              "  <tbody>\n",
              "    <tr>\n",
              "      <th>0</th>\n",
              "      <td>M1B</td>\n",
              "      <td>Scarborough</td>\n",
              "      <td>Malvern, Rouge</td>\n",
              "      <td>43.806686</td>\n",
              "      <td>-79.194353</td>\n",
              "    </tr>\n",
              "    <tr>\n",
              "      <th>1</th>\n",
              "      <td>M1C</td>\n",
              "      <td>Scarborough</td>\n",
              "      <td>Rouge Hill, Port Union, Highland Creek</td>\n",
              "      <td>43.784535</td>\n",
              "      <td>-79.160497</td>\n",
              "    </tr>\n",
              "    <tr>\n",
              "      <th>2</th>\n",
              "      <td>M1E</td>\n",
              "      <td>Scarborough</td>\n",
              "      <td>Guildwood, Morningside, West Hill</td>\n",
              "      <td>43.763573</td>\n",
              "      <td>-79.188711</td>\n",
              "    </tr>\n",
              "    <tr>\n",
              "      <th>3</th>\n",
              "      <td>M1G</td>\n",
              "      <td>Scarborough</td>\n",
              "      <td>Woburn</td>\n",
              "      <td>43.770992</td>\n",
              "      <td>-79.216917</td>\n",
              "    </tr>\n",
              "    <tr>\n",
              "      <th>4</th>\n",
              "      <td>M1H</td>\n",
              "      <td>Scarborough</td>\n",
              "      <td>Cedarbrae</td>\n",
              "      <td>43.773136</td>\n",
              "      <td>-79.239476</td>\n",
              "    </tr>\n",
              "  </tbody>\n",
              "</table>\n",
              "</div>"
            ],
            "text/plain": [
              "  PostalCode      Borough  ...   Latitude  Longitude\n",
              "0        M1B  Scarborough  ...  43.806686 -79.194353\n",
              "1        M1C  Scarborough  ...  43.784535 -79.160497\n",
              "2        M1E  Scarborough  ...  43.763573 -79.188711\n",
              "3        M1G  Scarborough  ...  43.770992 -79.216917\n",
              "4        M1H  Scarborough  ...  43.773136 -79.239476\n",
              "\n",
              "[5 rows x 5 columns]"
            ]
          },
          "metadata": {
            "tags": []
          },
          "execution_count": 23
        }
      ]
    },
    {
      "cell_type": "code",
      "metadata": {
        "id": "iOJ6dgwZ1FLi",
        "colab_type": "code",
        "colab": {}
      },
      "source": [
        ""
      ],
      "execution_count": null,
      "outputs": []
    }
  ]
}