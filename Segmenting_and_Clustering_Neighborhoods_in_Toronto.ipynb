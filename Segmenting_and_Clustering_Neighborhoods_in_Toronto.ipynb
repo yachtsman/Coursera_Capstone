{
  "nbformat": 4,
  "nbformat_minor": 0,
  "metadata": {
    "colab": {
      "name": "Segmenting and Clustering Neighborhoods in Toronto.ipynb",
      "provenance": [],
      "collapsed_sections": [],
      "toc_visible": true,
      "authorship_tag": "ABX9TyNuIug4TKVlTcC74+s02V94",
      "include_colab_link": true
    },
    "kernelspec": {
      "name": "python3",
      "display_name": "Python 3"
    }
  },
  "cells": [
    {
      "cell_type": "markdown",
      "metadata": {
        "id": "view-in-github",
        "colab_type": "text"
      },
      "source": [
        "<a href=\"https://colab.research.google.com/github/yachtsman/Coursera_Capstone/blob/master/Segmenting_and_Clustering_Neighborhoods_in_Toronto.ipynb\" target=\"_parent\"><img src=\"https://colab.research.google.com/assets/colab-badge.svg\" alt=\"Open In Colab\"/></a>"
      ]
    },
    {
      "cell_type": "markdown",
      "metadata": {
        "id": "-5B91mn6Bgej",
        "colab_type": "text"
      },
      "source": [
        "## Segmenting and Clustering Neighborhoods in Toronto"
      ]
    },
    {
      "cell_type": "markdown",
      "metadata": {
        "id": "d3vfvMJKjrgp",
        "colab_type": "text"
      },
      "source": [
        "Importing basic dependencies"
      ]
    },
    {
      "cell_type": "code",
      "metadata": {
        "id": "4CA51CDwBkPZ",
        "colab_type": "code",
        "colab": {
          "base_uri": "https://localhost:8080/",
          "height": 34
        },
        "outputId": "ae3f2efc-74c9-4938-bf50-7d8c8cecebc8"
      },
      "source": [
        "import pandas as pd\n",
        "import numpy as np\n",
        "print('basic dependencies imported')"
      ],
      "execution_count": 1,
      "outputs": [
        {
          "output_type": "stream",
          "text": [
            "basic dependencies imported\n"
          ],
          "name": "stdout"
        }
      ]
    },
    {
      "cell_type": "markdown",
      "metadata": {
        "id": "YVZmw0iXj4EW",
        "colab_type": "text"
      },
      "source": [
        "Scraping data from wikipedia"
      ]
    },
    {
      "cell_type": "code",
      "metadata": {
        "id": "2DI8fG17Ez7G",
        "colab_type": "code",
        "colab": {
          "base_uri": "https://localhost:8080/",
          "height": 34
        },
        "outputId": "f88891f5-9da3-4e7e-cf34-347e31517bc1"
      },
      "source": [
        "from bs4 import BeautifulSoup\n",
        "import requests\n",
        "from urllib.request import urlopen\n",
        "import csv\n",
        "\n",
        "print('BeautifulSoup & CSV imported.')"
      ],
      "execution_count": 2,
      "outputs": [
        {
          "output_type": "stream",
          "text": [
            "BeautifulSoup & CSV imported.\n"
          ],
          "name": "stdout"
        }
      ]
    },
    {
      "cell_type": "code",
      "metadata": {
        "id": "pFccBTMPJcTj",
        "colab_type": "code",
        "colab": {
          "base_uri": "https://localhost:8080/",
          "height": 34
        },
        "outputId": "79392e68-3004-4860-fcdf-ae709655cd32"
      },
      "source": [
        "wiki_url = requests.get('https://en.wikipedia.org/wiki/List_of_postal_codes_of_Canada:_M').text\n",
        "soup = BeautifulSoup(wiki_url,'lxml')\n",
        "print('soup cooked')"
      ],
      "execution_count": 5,
      "outputs": [
        {
          "output_type": "stream",
          "text": [
            "soup cooked\n"
          ],
          "name": "stdout"
        }
      ]
    },
    {
      "cell_type": "code",
      "metadata": {
        "id": "y94ecqTzY0vu",
        "colab_type": "code",
        "colab": {}
      },
      "source": [
        "wiki_table = soup.find('table',{'class':'wikitable sortable'})\n",
        "wiki_rows = wiki_table.find_all('tr')"
      ],
      "execution_count": 6,
      "outputs": []
    },
    {
      "cell_type": "code",
      "metadata": {
        "id": "nvE2b-riZEYW",
        "colab_type": "code",
        "colab": {}
      },
      "source": [
        "data = []\n",
        "for row in wiki_rows:\n",
        "    data.append([t.text.strip()\n",
        "    for t in row.find_all('td')]\n",
        "    )\n",
        "df = pd.DataFrame(data, columns=['PostalCode', 'Borough', 'Neighbourhood'])\n",
        "df.drop([0], inplace=True) # to skip first rows 'none' "
      ],
      "execution_count": 29,
      "outputs": []
    },
    {
      "cell_type": "markdown",
      "metadata": {
        "id": "cZPpoIxEjghM",
        "colab_type": "text"
      },
      "source": [
        "Cleaning  the 'Not assigned' rows"
      ]
    },
    {
      "cell_type": "code",
      "metadata": {
        "id": "QkjeHAnVkI8t",
        "colab_type": "code",
        "colab": {
          "base_uri": "https://localhost:8080/",
          "height": 134
        },
        "outputId": "d5eb23d0-c9f8-4655-87b6-f8caeec81941"
      },
      "source": [
        "df1 = df[df['Borough'] != 'Not assigned'].reset_index(drop=True) # to filter out 'Not assigned' rows\n",
        "print(df1.head())\n",
        "print(df1.shape)"
      ],
      "execution_count": 30,
      "outputs": [
        {
          "output_type": "stream",
          "text": [
            "  PostalCode           Borough                                Neighbourhood\n",
            "0        M3A        North York                                    Parkwoods\n",
            "1        M4A        North York                             Victoria Village\n",
            "2        M5A  Downtown Toronto                    Regent Park, Harbourfront\n",
            "3        M6A        North York             Lawrence Manor, Lawrence Heights\n",
            "4        M7A  Downtown Toronto  Queen's Park, Ontario Provincial Government\n",
            "(103, 3)\n"
          ],
          "name": "stdout"
        }
      ]
    },
    {
      "cell_type": "markdown",
      "metadata": {
        "id": "AsEo_bCyjCjw",
        "colab_type": "text"
      },
      "source": [
        "combinig the Neighborhoods with the equal postal codes "
      ]
    },
    {
      "cell_type": "code",
      "metadata": {
        "id": "TSl-P3ofjb0E",
        "colab_type": "code",
        "colab": {
          "base_uri": "https://localhost:8080/",
          "height": 151
        },
        "outputId": "984738a3-ebc2-41ae-8b7c-8b0d3ff53ced"
      },
      "source": [
        "df2= df1.groupby('PostalCode').agg(lambda x: ','.join(x))\n",
        "print(df2.head())\n",
        "print(df2.shape)"
      ],
      "execution_count": 31,
      "outputs": [
        {
          "output_type": "stream",
          "text": [
            "                Borough                           Neighbourhood\n",
            "PostalCode                                                     \n",
            "M1B         Scarborough                          Malvern, Rouge\n",
            "M1C         Scarborough  Rouge Hill, Port Union, Highland Creek\n",
            "M1E         Scarborough       Guildwood, Morningside, West Hill\n",
            "M1G         Scarborough                                  Woburn\n",
            "M1H         Scarborough                               Cedarbrae\n",
            "(103, 2)\n"
          ],
          "name": "stdout"
        }
      ]
    },
    {
      "cell_type": "code",
      "metadata": {
        "id": "vfJbSrGfkUAe",
        "colab_type": "code",
        "colab": {}
      },
      "source": [
        "df2.loc[df2['Neighbourhood']==\"Not assigned\",'Neighbourhood']=df2.loc[df2['Neighbourhood']==\"Not assigned\",'Borough']\n",
        "df3 = df2.reset_index()"
      ],
      "execution_count": 32,
      "outputs": []
    },
    {
      "cell_type": "code",
      "metadata": {
        "id": "BrofsOm1khcA",
        "colab_type": "code",
        "colab": {
          "base_uri": "https://localhost:8080/",
          "height": 420
        },
        "outputId": "b91dafcb-f5e8-44e3-d625-88e26bee45c3"
      },
      "source": [
        "df3['Borough']= df3['Borough'].str.replace('nan|[{}\\s]','').str.split(',').apply(set).str.join(',').str.strip(',').str.replace(\",{2,}\",\",\")\n",
        "print('The final cleaned table looks like:')\n",
        "print(df3.head(20))\n",
        "print('with the shape:')\n",
        "print(df3.shape)"
      ],
      "execution_count": 37,
      "outputs": [
        {
          "output_type": "stream",
          "text": [
            "The final cleaned table looks like:\n",
            "   PostalCode      Borough                                      Neighbourhood\n",
            "0         M1B  Scarborough                                     Malvern, Rouge\n",
            "1         M1C  Scarborough             Rouge Hill, Port Union, Highland Creek\n",
            "2         M1E  Scarborough                  Guildwood, Morningside, West Hill\n",
            "3         M1G  Scarborough                                             Woburn\n",
            "4         M1H  Scarborough                                          Cedarbrae\n",
            "5         M1J  Scarborough                                Scarborough Village\n",
            "6         M1K  Scarborough        Kennedy Park, Ionview, East Birchmount Park\n",
            "7         M1L  Scarborough                    Golden Mile, Clairlea, Oakridge\n",
            "8         M1M  Scarborough    Cliffside, Cliffcrest, Scarborough Village West\n",
            "9         M1N  Scarborough                        Birch Cliff, Cliffside West\n",
            "10        M1P  Scarborough  Dorset Park, Wexford Heights, Scarborough Town...\n",
            "11        M1R  Scarborough                                  Wexford, Maryvale\n",
            "12        M1S  Scarborough                                          Agincourt\n",
            "13        M1T  Scarborough            Clarks Corners, Tam O'Shanter, Sullivan\n",
            "14        M1V  Scarborough  Milliken, Agincourt North, Steeles East, L'Amo...\n",
            "15        M1W  Scarborough                      Steeles West, L'Amoreaux West\n",
            "16        M1X  Scarborough                                        Upper Rouge\n",
            "17        M2H    NorthYork                                  Hillcrest Village\n",
            "18        M2J    NorthYork                       Fairview, Henry Farm, Oriole\n",
            "19        M2K    NorthYork                                    Bayview Village\n",
            "with the shape:\n",
            "(103, 3)\n"
          ],
          "name": "stdout"
        }
      ]
    },
    {
      "cell_type": "code",
      "metadata": {
        "id": "nOH1-7INkrRL",
        "colab_type": "code",
        "colab": {}
      },
      "source": [
        ""
      ],
      "execution_count": null,
      "outputs": []
    }
  ]
}