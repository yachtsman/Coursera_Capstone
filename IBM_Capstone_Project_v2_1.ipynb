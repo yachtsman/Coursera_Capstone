{
  "nbformat": 4,
  "nbformat_minor": 0,
  "metadata": {
    "kernelspec": {
      "display_name": "Python 3",
      "language": "python",
      "name": "python3"
    },
    "language_info": {
      "codemirror_mode": {
        "name": "ipython",
        "version": 3
      },
      "file_extension": ".py",
      "mimetype": "text/x-python",
      "name": "python",
      "nbconvert_exporter": "python",
      "pygments_lexer": "ipython3",
      "version": "3.7.1"
    },
    "colab": {
      "name": "IBM_Capstone_Project_v2.1.ipynb",
      "provenance": [],
      "toc_visible": true,
      "include_colab_link": true
    }
  },
  "cells": [
    {
      "cell_type": "markdown",
      "metadata": {
        "id": "view-in-github",
        "colab_type": "text"
      },
      "source": [
        "<a href=\"https://colab.research.google.com/github/yachtsman/Coursera_Capstone/blob/master/IBM_Capstone_Project_v2_1.ipynb\" target=\"_parent\"><img src=\"https://colab.research.google.com/assets/colab-badge.svg\" alt=\"Open In Colab\"/></a>"
      ]
    },
    {
      "cell_type": "markdown",
      "metadata": {
        "id": "mKPNQ5fZXmI9",
        "colab_type": "text"
      },
      "source": [
        "# IBM Capstone Project\n",
        "## The Battle of Neighborhoods"
      ]
    },
    {
      "cell_type": "markdown",
      "metadata": {
        "id": "iR-WYZN6XmI-",
        "colab_type": "text"
      },
      "source": [
        "## 1. Introduction / Business Problem\n",
        "\n",
        "Toronto is the provincial capital of Ontario. It is the most populous city in Canada and the fourth most populous city in North America. Toronto has a large Italian Canadian community, with 32.2 percent of the ethnic Italians in Canada living in the Greater Toronto Area as of 2016. It is home to the fourth largest Italian population outside of Italy, behind São Paulo, Brazil, Buenos Aires, Argentina, and New York City, respectively. As of the Canada 2016 Census, there were more than 500k Italian Canadians located in the Greater Toronto Area.\n",
        "There are many opportunities to open a new Italian restaurant.\n",
        "\n",
        "The aim of this project is **to help a prospective investor to find the best location for the opening of a restaurant with Italian cuisine in Toronto, Canada**.\n",
        "\n",
        "We are going to investigate the best location in an area that meets the following criteria:\n",
        "\n",
        "- A neighbourhood with average to above-average total population\n",
        "- Above the average population of 25-50-year-old professionals\n",
        "- Average to above-average median net household incomes\n",
        "- Minimal competition around\n",
        "\n",
        "The main objective is to provide the recommendation to the prospective investor which neighbourhood of Toronto will be the best choice to start in. We will analyze data of the population and focus on the borough and explore its neighborhoods which meets the criteria above. In addition, we'll take a look at the 10 most common venues in each neighbourhood where Italian restaurants are not among the most common venue."
      ]
    },
    {
      "cell_type": "markdown",
      "metadata": {
        "id": "ZYDhG3-sXmI_",
        "colab_type": "text"
      },
      "source": [
        "## 2. Data\n",
        "\n",
        "- To evaluate the neighbourhoods, we will be using the data from the 2016 Toronto Census\n",
        "- Wikipedia, to matching each neighbourhood to their boroughs \n",
        "- Boundaries of City of Toronto Neighbourhoods to map the neighbourhoods\n",
        "- Foursquare API to obtain information on venues/competitors.\n",
        "\n",
        "We will be using the following data sources:\n",
        "\n",
        "  -  The Census of Population in Toronto __[Open Data City of Toronto | NEIGHBOURHOOD PROFILES](https://open.toronto.ca/dataset/neighbourhood-profiles/)__\n",
        "  Data set:   __[neighbourhood-profiles-2016-csv](https://ckan0.cf.opendata.inter.prod-toronto.ca/download_resource/ef0239b1-832b-4d0b-a1f3-4153e53b189e?format=csv)__ \n",
        "\n",
        "  The Census of Population is held across Canada every 5 years and collects data about age and sex, families and households, language, immigration and internal migration, ethnocultural diversity, Aboriginal peoples, housing, education, income, and labour. City of Toronto Neighbourhood Profiles use this Census data to provide a portrait of the demographic, social and economic characteristics of the people and households in each City of Toronto neighbourhood. The profiles present selected highlights from the data, but these accompanying data files provide the full data set assembled for each neighbourhood.\n",
        "- In these profiles, \"neighbourhood\" refers to the City of Toronto's 140 social planning neighbourhoods. These social planning neighbourhoods were developed by the City of Toronto to help government and community organizations with local planning by providing socio-economic data at a meaningful geographic area. The boundaries of these social planning neighbourhoods are consistent over time, allowing for comparison between Census years. Neighbourhood level data from a variety of other sources are also available through the City's Wellbeing Toronto mapping application and here on the Open Data portal.\n",
        "- Each data point in this file is presented for the City's 140 neighbourhoods, as well as for the City of Toronto as a whole. The data is sourced from a number of Census tables released by Statistics Canada. The general Census Profile is the main source table for this data, but other Census tables have also been used to provide additional information.\n",
        "\n",
        "- Each of the 140 neighbourhoods of Toronto resides within a defined borough. We will obtain this information from Wikipedia:  __[Wikipedia | List of city-designated neighbourhoods in Toronto](https://en.wikipedia.org/wiki/List_of_city-designated_neighbourhoods_in_Toronto)__\n",
        "   \n",
        "- Boundaries of City of Toronto Neighbourhoods. __[Open Data City of Toronto |  NEIGHBOURHOOD](https://portal0.cf.opendata.inter.sandbox-toronto.ca/dataset/neighbourhoods/)__\n",
        "  Data for mapping : __[Neighbourhoods GeoJSON File](https://ckan0.cf.opendata.inter.prod-toronto.ca/download_resource/a083c865-6d60-4d1d-b6c6-b0c8a85f9c15?format=geojson&projection=4326)__\n",
        "\n",
        "- To collect information on other venues/competitors, we will use Foursquare: __[Foursquare | API](https://developer.foursquare.com/)__"
      ]
    }
  ]
}