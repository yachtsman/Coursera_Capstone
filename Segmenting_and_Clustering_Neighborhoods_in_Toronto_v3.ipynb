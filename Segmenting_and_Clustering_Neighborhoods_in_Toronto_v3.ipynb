{
  "nbformat": 4,
  "nbformat_minor": 0,
  "metadata": {
    "colab": {
      "name": "Segmenting and Clustering Neighborhoods in Toronto v3.ipynb",
      "provenance": [],
      "collapsed_sections": [],
      "toc_visible": true,
      "mount_file_id": "https://github.com/yachtsman/Coursera_Capstone/blob/master/Segmenting_and_Clustering_Neighborhoods_in_Toronto.ipynb",
      "authorship_tag": "ABX9TyOoto1uqPOgBmK98bXjVNSX",
      "include_colab_link": true
    },
    "kernelspec": {
      "name": "python3",
      "display_name": "Python 3"
    }
  },
  "cells": [
    {
      "cell_type": "markdown",
      "metadata": {
        "id": "view-in-github",
        "colab_type": "text"
      },
      "source": [
        "<a href=\"https://colab.research.google.com/github/yachtsman/Coursera_Capstone/blob/master/Segmenting_and_Clustering_Neighborhoods_in_Toronto_v3.ipynb\" target=\"_parent\"><img src=\"https://colab.research.google.com/assets/colab-badge.svg\" alt=\"Open In Colab\"/></a>"
      ]
    },
    {
      "cell_type": "markdown",
      "metadata": {
        "id": "-5B91mn6Bgej",
        "colab_type": "text"
      },
      "source": [
        "## Segmenting and Clustering Neighborhoods in Toronto"
      ]
    },
    {
      "cell_type": "markdown",
      "metadata": {
        "id": "0SSt6N4podkp",
        "colab_type": "text"
      },
      "source": [
        "# Mining and structuring the data\n",
        "\n",
        "1.   Creating a new notebook\n",
        "2.   Scraping data from Wikipedia\n",
        "3.   Creating the dataframe\n",
        "4.   Submiting the link on Github\n",
        "\n",
        "\n",
        "\n"
      ]
    },
    {
      "cell_type": "markdown",
      "metadata": {
        "id": "d3vfvMJKjrgp",
        "colab_type": "text"
      },
      "source": [
        "1. Creating a new notebook\n",
        "\n",
        "Importing basic dependencies"
      ]
    },
    {
      "cell_type": "code",
      "metadata": {
        "id": "4CA51CDwBkPZ",
        "colab_type": "code",
        "colab": {
          "base_uri": "https://localhost:8080/",
          "height": 34
        },
        "outputId": "c88f5b60-b079-4f69-d223-98dafd8bf645"
      },
      "source": [
        "import pandas as pd\n",
        "import numpy as np\n",
        "print('basic dependencies imported')"
      ],
      "execution_count": 46,
      "outputs": [
        {
          "output_type": "stream",
          "text": [
            "basic dependencies imported\n"
          ],
          "name": "stdout"
        }
      ]
    },
    {
      "cell_type": "markdown",
      "metadata": {
        "id": "YVZmw0iXj4EW",
        "colab_type": "text"
      },
      "source": [
        "2. Scraping data from wikipedia"
      ]
    },
    {
      "cell_type": "code",
      "metadata": {
        "id": "2DI8fG17Ez7G",
        "colab_type": "code",
        "colab": {
          "base_uri": "https://localhost:8080/",
          "height": 34
        },
        "outputId": "188a42de-6ebc-4cda-ed2f-94c415ecca34"
      },
      "source": [
        "from bs4 import BeautifulSoup\n",
        "import requests\n",
        "\n",
        "print('BeautifulSoup is imported.')"
      ],
      "execution_count": 47,
      "outputs": [
        {
          "output_type": "stream",
          "text": [
            "BeautifulSoup is imported.\n"
          ],
          "name": "stdout"
        }
      ]
    },
    {
      "cell_type": "code",
      "metadata": {
        "id": "pFccBTMPJcTj",
        "colab_type": "code",
        "colab": {
          "base_uri": "https://localhost:8080/",
          "height": 34
        },
        "outputId": "d46464db-7334-469d-cf13-f8dfc1f214a5"
      },
      "source": [
        "wiki_url = requests.get('https://en.wikipedia.org/wiki/List_of_postal_codes_of_Canada:_M').text\n",
        "soup = BeautifulSoup(wiki_url,'lxml')\n",
        "print('soup cooked')"
      ],
      "execution_count": 48,
      "outputs": [
        {
          "output_type": "stream",
          "text": [
            "soup cooked\n"
          ],
          "name": "stdout"
        }
      ]
    },
    {
      "cell_type": "code",
      "metadata": {
        "id": "y94ecqTzY0vu",
        "colab_type": "code",
        "colab": {}
      },
      "source": [
        "wiki_table = soup.find('table',{'class':'wikitable sortable'})\n",
        "wiki_rows = wiki_table.find_all('tr')\n",
        "#wiki_rows"
      ],
      "execution_count": 49,
      "outputs": []
    },
    {
      "cell_type": "markdown",
      "metadata": {
        "id": "k8GtGZHCn1lE",
        "colab_type": "text"
      },
      "source": [
        "3. Creating the dataframe"
      ]
    },
    {
      "cell_type": "code",
      "metadata": {
        "id": "nvE2b-riZEYW",
        "colab_type": "code",
        "colab": {
          "base_uri": "https://localhost:8080/",
          "height": 212
        },
        "outputId": "3ba964fd-346f-4c82-8d06-9af7a55a88ff"
      },
      "source": [
        "data = []\n",
        "for row in wiki_rows:\n",
        "    data.append([t.text.strip()\n",
        "    for t in row.find_all('td')]\n",
        "    )\n",
        "df = pd.DataFrame(data, columns=['PostalCode', 'Borough', 'Neighbourhood'])\n",
        "df.drop([0], inplace=True) # to skip first rows 'none' \n",
        "\n",
        "print(df.shape)\n",
        "df.head()"
      ],
      "execution_count": 50,
      "outputs": [
        {
          "output_type": "stream",
          "text": [
            "(180, 3)\n"
          ],
          "name": "stdout"
        },
        {
          "output_type": "execute_result",
          "data": {
            "text/html": [
              "<div>\n",
              "<style scoped>\n",
              "    .dataframe tbody tr th:only-of-type {\n",
              "        vertical-align: middle;\n",
              "    }\n",
              "\n",
              "    .dataframe tbody tr th {\n",
              "        vertical-align: top;\n",
              "    }\n",
              "\n",
              "    .dataframe thead th {\n",
              "        text-align: right;\n",
              "    }\n",
              "</style>\n",
              "<table border=\"1\" class=\"dataframe\">\n",
              "  <thead>\n",
              "    <tr style=\"text-align: right;\">\n",
              "      <th></th>\n",
              "      <th>PostalCode</th>\n",
              "      <th>Borough</th>\n",
              "      <th>Neighbourhood</th>\n",
              "    </tr>\n",
              "  </thead>\n",
              "  <tbody>\n",
              "    <tr>\n",
              "      <th>1</th>\n",
              "      <td>M1A</td>\n",
              "      <td>Not assigned</td>\n",
              "      <td>Not assigned</td>\n",
              "    </tr>\n",
              "    <tr>\n",
              "      <th>2</th>\n",
              "      <td>M2A</td>\n",
              "      <td>Not assigned</td>\n",
              "      <td>Not assigned</td>\n",
              "    </tr>\n",
              "    <tr>\n",
              "      <th>3</th>\n",
              "      <td>M3A</td>\n",
              "      <td>North York</td>\n",
              "      <td>Parkwoods</td>\n",
              "    </tr>\n",
              "    <tr>\n",
              "      <th>4</th>\n",
              "      <td>M4A</td>\n",
              "      <td>North York</td>\n",
              "      <td>Victoria Village</td>\n",
              "    </tr>\n",
              "    <tr>\n",
              "      <th>5</th>\n",
              "      <td>M5A</td>\n",
              "      <td>Downtown Toronto</td>\n",
              "      <td>Regent Park, Harbourfront</td>\n",
              "    </tr>\n",
              "  </tbody>\n",
              "</table>\n",
              "</div>"
            ],
            "text/plain": [
              "  PostalCode           Borough              Neighbourhood\n",
              "1        M1A      Not assigned               Not assigned\n",
              "2        M2A      Not assigned               Not assigned\n",
              "3        M3A        North York                  Parkwoods\n",
              "4        M4A        North York           Victoria Village\n",
              "5        M5A  Downtown Toronto  Regent Park, Harbourfront"
            ]
          },
          "metadata": {
            "tags": []
          },
          "execution_count": 50
        }
      ]
    },
    {
      "cell_type": "markdown",
      "metadata": {
        "id": "cZPpoIxEjghM",
        "colab_type": "text"
      },
      "source": [
        "Cleaning  the 'Not assigned' rows"
      ]
    },
    {
      "cell_type": "code",
      "metadata": {
        "id": "QkjeHAnVkI8t",
        "colab_type": "code",
        "colab": {
          "base_uri": "https://localhost:8080/",
          "height": 212
        },
        "outputId": "7fbf61f7-8319-4eb5-9914-5b41a8708ca8"
      },
      "source": [
        "df1 = df[df['Borough'] != 'Not assigned'].reset_index(drop=True) # to filter out 'Not assigned' rows\n",
        "\n",
        "print(df1.shape)\n",
        "df1.head()"
      ],
      "execution_count": 51,
      "outputs": [
        {
          "output_type": "stream",
          "text": [
            "(103, 3)\n"
          ],
          "name": "stdout"
        },
        {
          "output_type": "execute_result",
          "data": {
            "text/html": [
              "<div>\n",
              "<style scoped>\n",
              "    .dataframe tbody tr th:only-of-type {\n",
              "        vertical-align: middle;\n",
              "    }\n",
              "\n",
              "    .dataframe tbody tr th {\n",
              "        vertical-align: top;\n",
              "    }\n",
              "\n",
              "    .dataframe thead th {\n",
              "        text-align: right;\n",
              "    }\n",
              "</style>\n",
              "<table border=\"1\" class=\"dataframe\">\n",
              "  <thead>\n",
              "    <tr style=\"text-align: right;\">\n",
              "      <th></th>\n",
              "      <th>PostalCode</th>\n",
              "      <th>Borough</th>\n",
              "      <th>Neighbourhood</th>\n",
              "    </tr>\n",
              "  </thead>\n",
              "  <tbody>\n",
              "    <tr>\n",
              "      <th>0</th>\n",
              "      <td>M3A</td>\n",
              "      <td>North York</td>\n",
              "      <td>Parkwoods</td>\n",
              "    </tr>\n",
              "    <tr>\n",
              "      <th>1</th>\n",
              "      <td>M4A</td>\n",
              "      <td>North York</td>\n",
              "      <td>Victoria Village</td>\n",
              "    </tr>\n",
              "    <tr>\n",
              "      <th>2</th>\n",
              "      <td>M5A</td>\n",
              "      <td>Downtown Toronto</td>\n",
              "      <td>Regent Park, Harbourfront</td>\n",
              "    </tr>\n",
              "    <tr>\n",
              "      <th>3</th>\n",
              "      <td>M6A</td>\n",
              "      <td>North York</td>\n",
              "      <td>Lawrence Manor, Lawrence Heights</td>\n",
              "    </tr>\n",
              "    <tr>\n",
              "      <th>4</th>\n",
              "      <td>M7A</td>\n",
              "      <td>Downtown Toronto</td>\n",
              "      <td>Queen's Park, Ontario Provincial Government</td>\n",
              "    </tr>\n",
              "  </tbody>\n",
              "</table>\n",
              "</div>"
            ],
            "text/plain": [
              "  PostalCode           Borough                                Neighbourhood\n",
              "0        M3A        North York                                    Parkwoods\n",
              "1        M4A        North York                             Victoria Village\n",
              "2        M5A  Downtown Toronto                    Regent Park, Harbourfront\n",
              "3        M6A        North York             Lawrence Manor, Lawrence Heights\n",
              "4        M7A  Downtown Toronto  Queen's Park, Ontario Provincial Government"
            ]
          },
          "metadata": {
            "tags": []
          },
          "execution_count": 51
        }
      ]
    },
    {
      "cell_type": "markdown",
      "metadata": {
        "id": "AsEo_bCyjCjw",
        "colab_type": "text"
      },
      "source": [
        "combinig the Neighborhoods with the equal postal codes "
      ]
    },
    {
      "cell_type": "code",
      "metadata": {
        "id": "TSl-P3ofjb0E",
        "colab_type": "code",
        "colab": {
          "base_uri": "https://localhost:8080/",
          "height": 242
        },
        "outputId": "1b31f0b5-110e-4f02-e956-1e3eb4ea073d"
      },
      "source": [
        "df2= df1.groupby('PostalCode').agg(lambda x: ','.join(x))\n",
        "print(df2.shape)\n",
        "df2.head()"
      ],
      "execution_count": 52,
      "outputs": [
        {
          "output_type": "stream",
          "text": [
            "(103, 2)\n"
          ],
          "name": "stdout"
        },
        {
          "output_type": "execute_result",
          "data": {
            "text/html": [
              "<div>\n",
              "<style scoped>\n",
              "    .dataframe tbody tr th:only-of-type {\n",
              "        vertical-align: middle;\n",
              "    }\n",
              "\n",
              "    .dataframe tbody tr th {\n",
              "        vertical-align: top;\n",
              "    }\n",
              "\n",
              "    .dataframe thead th {\n",
              "        text-align: right;\n",
              "    }\n",
              "</style>\n",
              "<table border=\"1\" class=\"dataframe\">\n",
              "  <thead>\n",
              "    <tr style=\"text-align: right;\">\n",
              "      <th></th>\n",
              "      <th>Borough</th>\n",
              "      <th>Neighbourhood</th>\n",
              "    </tr>\n",
              "    <tr>\n",
              "      <th>PostalCode</th>\n",
              "      <th></th>\n",
              "      <th></th>\n",
              "    </tr>\n",
              "  </thead>\n",
              "  <tbody>\n",
              "    <tr>\n",
              "      <th>M1B</th>\n",
              "      <td>Scarborough</td>\n",
              "      <td>Malvern, Rouge</td>\n",
              "    </tr>\n",
              "    <tr>\n",
              "      <th>M1C</th>\n",
              "      <td>Scarborough</td>\n",
              "      <td>Rouge Hill, Port Union, Highland Creek</td>\n",
              "    </tr>\n",
              "    <tr>\n",
              "      <th>M1E</th>\n",
              "      <td>Scarborough</td>\n",
              "      <td>Guildwood, Morningside, West Hill</td>\n",
              "    </tr>\n",
              "    <tr>\n",
              "      <th>M1G</th>\n",
              "      <td>Scarborough</td>\n",
              "      <td>Woburn</td>\n",
              "    </tr>\n",
              "    <tr>\n",
              "      <th>M1H</th>\n",
              "      <td>Scarborough</td>\n",
              "      <td>Cedarbrae</td>\n",
              "    </tr>\n",
              "  </tbody>\n",
              "</table>\n",
              "</div>"
            ],
            "text/plain": [
              "                Borough                           Neighbourhood\n",
              "PostalCode                                                     \n",
              "M1B         Scarborough                          Malvern, Rouge\n",
              "M1C         Scarborough  Rouge Hill, Port Union, Highland Creek\n",
              "M1E         Scarborough       Guildwood, Morningside, West Hill\n",
              "M1G         Scarborough                                  Woburn\n",
              "M1H         Scarborough                               Cedarbrae"
            ]
          },
          "metadata": {
            "tags": []
          },
          "execution_count": 52
        }
      ]
    },
    {
      "cell_type": "code",
      "metadata": {
        "id": "vfJbSrGfkUAe",
        "colab_type": "code",
        "colab": {}
      },
      "source": [
        "df2.loc[df2['Neighbourhood']==\"Not assigned\",'Neighbourhood']=df2.loc[df2['Neighbourhood']==\"Not assigned\",'Borough']\n",
        "df3 = df2.reset_index()"
      ],
      "execution_count": 53,
      "outputs": []
    },
    {
      "cell_type": "code",
      "metadata": {
        "id": "BrofsOm1khcA",
        "colab_type": "code",
        "colab": {
          "base_uri": "https://localhost:8080/",
          "height": 229
        },
        "outputId": "b3f13735-9860-4c54-ae9d-26fa0cd2ccf8"
      },
      "source": [
        "df3['Borough']= df3['Borough'].str.replace('nan|[{}\\s]','').str.split(',').apply(set).str.join(',').str.strip(',').str.replace(\",{2,}\",\",\")\n",
        "print('The final cleaned table looks like:')\n",
        "print(df3.shape)\n",
        "df3.head()"
      ],
      "execution_count": 54,
      "outputs": [
        {
          "output_type": "stream",
          "text": [
            "The final cleaned table looks like:\n",
            "(103, 3)\n"
          ],
          "name": "stdout"
        },
        {
          "output_type": "execute_result",
          "data": {
            "text/html": [
              "<div>\n",
              "<style scoped>\n",
              "    .dataframe tbody tr th:only-of-type {\n",
              "        vertical-align: middle;\n",
              "    }\n",
              "\n",
              "    .dataframe tbody tr th {\n",
              "        vertical-align: top;\n",
              "    }\n",
              "\n",
              "    .dataframe thead th {\n",
              "        text-align: right;\n",
              "    }\n",
              "</style>\n",
              "<table border=\"1\" class=\"dataframe\">\n",
              "  <thead>\n",
              "    <tr style=\"text-align: right;\">\n",
              "      <th></th>\n",
              "      <th>PostalCode</th>\n",
              "      <th>Borough</th>\n",
              "      <th>Neighbourhood</th>\n",
              "    </tr>\n",
              "  </thead>\n",
              "  <tbody>\n",
              "    <tr>\n",
              "      <th>0</th>\n",
              "      <td>M1B</td>\n",
              "      <td>Scarborough</td>\n",
              "      <td>Malvern, Rouge</td>\n",
              "    </tr>\n",
              "    <tr>\n",
              "      <th>1</th>\n",
              "      <td>M1C</td>\n",
              "      <td>Scarborough</td>\n",
              "      <td>Rouge Hill, Port Union, Highland Creek</td>\n",
              "    </tr>\n",
              "    <tr>\n",
              "      <th>2</th>\n",
              "      <td>M1E</td>\n",
              "      <td>Scarborough</td>\n",
              "      <td>Guildwood, Morningside, West Hill</td>\n",
              "    </tr>\n",
              "    <tr>\n",
              "      <th>3</th>\n",
              "      <td>M1G</td>\n",
              "      <td>Scarborough</td>\n",
              "      <td>Woburn</td>\n",
              "    </tr>\n",
              "    <tr>\n",
              "      <th>4</th>\n",
              "      <td>M1H</td>\n",
              "      <td>Scarborough</td>\n",
              "      <td>Cedarbrae</td>\n",
              "    </tr>\n",
              "  </tbody>\n",
              "</table>\n",
              "</div>"
            ],
            "text/plain": [
              "  PostalCode      Borough                           Neighbourhood\n",
              "0        M1B  Scarborough                          Malvern, Rouge\n",
              "1        M1C  Scarborough  Rouge Hill, Port Union, Highland Creek\n",
              "2        M1E  Scarborough       Guildwood, Morningside, West Hill\n",
              "3        M1G  Scarborough                                  Woburn\n",
              "4        M1H  Scarborough                               Cedarbrae"
            ]
          },
          "metadata": {
            "tags": []
          },
          "execution_count": 54
        }
      ]
    },
    {
      "cell_type": "markdown",
      "metadata": {
        "id": "CAot-rGNpuST",
        "colab_type": "text"
      },
      "source": [
        "# Adding the latitude and the longitude coordinates of each neighborhood"
      ]
    },
    {
      "cell_type": "code",
      "metadata": {
        "id": "zpUOBFr6oYSZ",
        "colab_type": "code",
        "colab": {}
      },
      "source": [
        "csv_path = 'https://cocl.us/Geospatial_data'\n",
        "df4 = pd.read_csv(csv_path)"
      ],
      "execution_count": 55,
      "outputs": []
    },
    {
      "cell_type": "code",
      "metadata": {
        "id": "p04jJ80-wvA_",
        "colab_type": "code",
        "colab": {
          "base_uri": "https://localhost:8080/",
          "height": 212
        },
        "outputId": "e62cc75c-7737-4dcd-b260-572de3add92b"
      },
      "source": [
        "print(df4.shape)\n",
        "df4.head()"
      ],
      "execution_count": 56,
      "outputs": [
        {
          "output_type": "stream",
          "text": [
            "(103, 3)\n"
          ],
          "name": "stdout"
        },
        {
          "output_type": "execute_result",
          "data": {
            "text/html": [
              "<div>\n",
              "<style scoped>\n",
              "    .dataframe tbody tr th:only-of-type {\n",
              "        vertical-align: middle;\n",
              "    }\n",
              "\n",
              "    .dataframe tbody tr th {\n",
              "        vertical-align: top;\n",
              "    }\n",
              "\n",
              "    .dataframe thead th {\n",
              "        text-align: right;\n",
              "    }\n",
              "</style>\n",
              "<table border=\"1\" class=\"dataframe\">\n",
              "  <thead>\n",
              "    <tr style=\"text-align: right;\">\n",
              "      <th></th>\n",
              "      <th>Postal Code</th>\n",
              "      <th>Latitude</th>\n",
              "      <th>Longitude</th>\n",
              "    </tr>\n",
              "  </thead>\n",
              "  <tbody>\n",
              "    <tr>\n",
              "      <th>0</th>\n",
              "      <td>M1B</td>\n",
              "      <td>43.806686</td>\n",
              "      <td>-79.194353</td>\n",
              "    </tr>\n",
              "    <tr>\n",
              "      <th>1</th>\n",
              "      <td>M1C</td>\n",
              "      <td>43.784535</td>\n",
              "      <td>-79.160497</td>\n",
              "    </tr>\n",
              "    <tr>\n",
              "      <th>2</th>\n",
              "      <td>M1E</td>\n",
              "      <td>43.763573</td>\n",
              "      <td>-79.188711</td>\n",
              "    </tr>\n",
              "    <tr>\n",
              "      <th>3</th>\n",
              "      <td>M1G</td>\n",
              "      <td>43.770992</td>\n",
              "      <td>-79.216917</td>\n",
              "    </tr>\n",
              "    <tr>\n",
              "      <th>4</th>\n",
              "      <td>M1H</td>\n",
              "      <td>43.773136</td>\n",
              "      <td>-79.239476</td>\n",
              "    </tr>\n",
              "  </tbody>\n",
              "</table>\n",
              "</div>"
            ],
            "text/plain": [
              "  Postal Code   Latitude  Longitude\n",
              "0         M1B  43.806686 -79.194353\n",
              "1         M1C  43.784535 -79.160497\n",
              "2         M1E  43.763573 -79.188711\n",
              "3         M1G  43.770992 -79.216917\n",
              "4         M1H  43.773136 -79.239476"
            ]
          },
          "metadata": {
            "tags": []
          },
          "execution_count": 56
        }
      ]
    },
    {
      "cell_type": "code",
      "metadata": {
        "id": "ZZwESe81zmBs",
        "colab_type": "code",
        "colab": {
          "base_uri": "https://localhost:8080/",
          "height": 195
        },
        "outputId": "6ae79753-bac1-45ae-8eff-9cb779b9862f"
      },
      "source": [
        "df4.rename(columns={'Postal Code': 'PostalCode'}, inplace=True)\n",
        "df4.head()"
      ],
      "execution_count": 57,
      "outputs": [
        {
          "output_type": "execute_result",
          "data": {
            "text/html": [
              "<div>\n",
              "<style scoped>\n",
              "    .dataframe tbody tr th:only-of-type {\n",
              "        vertical-align: middle;\n",
              "    }\n",
              "\n",
              "    .dataframe tbody tr th {\n",
              "        vertical-align: top;\n",
              "    }\n",
              "\n",
              "    .dataframe thead th {\n",
              "        text-align: right;\n",
              "    }\n",
              "</style>\n",
              "<table border=\"1\" class=\"dataframe\">\n",
              "  <thead>\n",
              "    <tr style=\"text-align: right;\">\n",
              "      <th></th>\n",
              "      <th>PostalCode</th>\n",
              "      <th>Latitude</th>\n",
              "      <th>Longitude</th>\n",
              "    </tr>\n",
              "  </thead>\n",
              "  <tbody>\n",
              "    <tr>\n",
              "      <th>0</th>\n",
              "      <td>M1B</td>\n",
              "      <td>43.806686</td>\n",
              "      <td>-79.194353</td>\n",
              "    </tr>\n",
              "    <tr>\n",
              "      <th>1</th>\n",
              "      <td>M1C</td>\n",
              "      <td>43.784535</td>\n",
              "      <td>-79.160497</td>\n",
              "    </tr>\n",
              "    <tr>\n",
              "      <th>2</th>\n",
              "      <td>M1E</td>\n",
              "      <td>43.763573</td>\n",
              "      <td>-79.188711</td>\n",
              "    </tr>\n",
              "    <tr>\n",
              "      <th>3</th>\n",
              "      <td>M1G</td>\n",
              "      <td>43.770992</td>\n",
              "      <td>-79.216917</td>\n",
              "    </tr>\n",
              "    <tr>\n",
              "      <th>4</th>\n",
              "      <td>M1H</td>\n",
              "      <td>43.773136</td>\n",
              "      <td>-79.239476</td>\n",
              "    </tr>\n",
              "  </tbody>\n",
              "</table>\n",
              "</div>"
            ],
            "text/plain": [
              "  PostalCode   Latitude  Longitude\n",
              "0        M1B  43.806686 -79.194353\n",
              "1        M1C  43.784535 -79.160497\n",
              "2        M1E  43.763573 -79.188711\n",
              "3        M1G  43.770992 -79.216917\n",
              "4        M1H  43.773136 -79.239476"
            ]
          },
          "metadata": {
            "tags": []
          },
          "execution_count": 57
        }
      ]
    },
    {
      "cell_type": "code",
      "metadata": {
        "id": "ESG8e8yJ0G0f",
        "colab_type": "code",
        "colab": {
          "base_uri": "https://localhost:8080/",
          "height": 212
        },
        "outputId": "c907f2ef-39b5-4c0e-cccc-2c9fa8af7e99"
      },
      "source": [
        "df_geo = pd.merge(df3, df4, how='inner')\n",
        "print(df_geo.shape)\n",
        "df_geo.head()"
      ],
      "execution_count": 58,
      "outputs": [
        {
          "output_type": "stream",
          "text": [
            "(103, 5)\n"
          ],
          "name": "stdout"
        },
        {
          "output_type": "execute_result",
          "data": {
            "text/html": [
              "<div>\n",
              "<style scoped>\n",
              "    .dataframe tbody tr th:only-of-type {\n",
              "        vertical-align: middle;\n",
              "    }\n",
              "\n",
              "    .dataframe tbody tr th {\n",
              "        vertical-align: top;\n",
              "    }\n",
              "\n",
              "    .dataframe thead th {\n",
              "        text-align: right;\n",
              "    }\n",
              "</style>\n",
              "<table border=\"1\" class=\"dataframe\">\n",
              "  <thead>\n",
              "    <tr style=\"text-align: right;\">\n",
              "      <th></th>\n",
              "      <th>PostalCode</th>\n",
              "      <th>Borough</th>\n",
              "      <th>Neighbourhood</th>\n",
              "      <th>Latitude</th>\n",
              "      <th>Longitude</th>\n",
              "    </tr>\n",
              "  </thead>\n",
              "  <tbody>\n",
              "    <tr>\n",
              "      <th>0</th>\n",
              "      <td>M1B</td>\n",
              "      <td>Scarborough</td>\n",
              "      <td>Malvern, Rouge</td>\n",
              "      <td>43.806686</td>\n",
              "      <td>-79.194353</td>\n",
              "    </tr>\n",
              "    <tr>\n",
              "      <th>1</th>\n",
              "      <td>M1C</td>\n",
              "      <td>Scarborough</td>\n",
              "      <td>Rouge Hill, Port Union, Highland Creek</td>\n",
              "      <td>43.784535</td>\n",
              "      <td>-79.160497</td>\n",
              "    </tr>\n",
              "    <tr>\n",
              "      <th>2</th>\n",
              "      <td>M1E</td>\n",
              "      <td>Scarborough</td>\n",
              "      <td>Guildwood, Morningside, West Hill</td>\n",
              "      <td>43.763573</td>\n",
              "      <td>-79.188711</td>\n",
              "    </tr>\n",
              "    <tr>\n",
              "      <th>3</th>\n",
              "      <td>M1G</td>\n",
              "      <td>Scarborough</td>\n",
              "      <td>Woburn</td>\n",
              "      <td>43.770992</td>\n",
              "      <td>-79.216917</td>\n",
              "    </tr>\n",
              "    <tr>\n",
              "      <th>4</th>\n",
              "      <td>M1H</td>\n",
              "      <td>Scarborough</td>\n",
              "      <td>Cedarbrae</td>\n",
              "      <td>43.773136</td>\n",
              "      <td>-79.239476</td>\n",
              "    </tr>\n",
              "  </tbody>\n",
              "</table>\n",
              "</div>"
            ],
            "text/plain": [
              "  PostalCode      Borough                           Neighbourhood   Latitude  \\\n",
              "0        M1B  Scarborough                          Malvern, Rouge  43.806686   \n",
              "1        M1C  Scarborough  Rouge Hill, Port Union, Highland Creek  43.784535   \n",
              "2        M1E  Scarborough       Guildwood, Morningside, West Hill  43.763573   \n",
              "3        M1G  Scarborough                                  Woburn  43.770992   \n",
              "4        M1H  Scarborough                               Cedarbrae  43.773136   \n",
              "\n",
              "   Longitude  \n",
              "0 -79.194353  \n",
              "1 -79.160497  \n",
              "2 -79.188711  \n",
              "3 -79.216917  \n",
              "4 -79.239476  "
            ]
          },
          "metadata": {
            "tags": []
          },
          "execution_count": 58
        }
      ]
    },
    {
      "cell_type": "markdown",
      "metadata": {
        "id": "rahqCQkn5bJc",
        "colab_type": "text"
      },
      "source": [
        "# Exploring and clustering the neighborhoods in Toronto"
      ]
    },
    {
      "cell_type": "code",
      "metadata": {
        "id": "JnN6TZDo5m9Y",
        "colab_type": "code",
        "colab": {
          "base_uri": "https://localhost:8080/",
          "height": 34
        },
        "outputId": "c278b822-d782-4673-e29a-ca02cfae01da"
      },
      "source": [
        "import numpy as np # library to handle data in a vectorized manner\n",
        "import pandas as pd # library for data analsysis\n",
        "pd.set_option('display.max_columns', None)\n",
        "pd.set_option('display.max_rows', None)\n",
        "\n",
        "import json # library to handle JSON files\n",
        "\n",
        "#!conda install -c conda-forge geopy --yes # uncomment this line if you haven't completed the Foursquare API lab\n",
        "from geopy.geocoders import Nominatim # convert an address into latitude and longitude values\n",
        "\n",
        "import requests # library to handle requests\n",
        "from pandas.io.json import json_normalize # tranform JSON file into a pandas dataframe\n",
        "\n",
        "# Matplotlib and associated plotting modules\n",
        "import matplotlib.cm as cm\n",
        "import matplotlib.colors as colors\n",
        "\n",
        "# import k-means from clustering stage\n",
        "from sklearn.cluster import KMeans\n",
        "\n",
        "#!conda install -c conda-forge folium=0.5.0 --yes # uncomment this line if you haven't completed the Foursquare API lab\n",
        "import folium # map rendering library\n",
        "\n",
        "print('Libraries imported.')"
      ],
      "execution_count": 59,
      "outputs": [
        {
          "output_type": "stream",
          "text": [
            "Libraries imported.\n"
          ],
          "name": "stdout"
        }
      ]
    },
    {
      "cell_type": "markdown",
      "metadata": {
        "id": "-YnlsJlNRM5t",
        "colab_type": "text"
      },
      "source": [
        "Observing the subject of the exploring"
      ]
    },
    {
      "cell_type": "code",
      "metadata": {
        "id": "htTJt-juGvqG",
        "colab_type": "code",
        "colab": {
          "base_uri": "https://localhost:8080/",
          "height": 202
        },
        "outputId": "4b4c9f7b-2be3-4424-d4b7-c48407f0bbf5"
      },
      "source": [
        "df_geo['Borough'].value_counts()"
      ],
      "execution_count": 60,
      "outputs": [
        {
          "output_type": "execute_result",
          "data": {
            "text/plain": [
              "NorthYork          24\n",
              "DowntownToronto    19\n",
              "Scarborough        17\n",
              "Etobicoke          12\n",
              "CentralToronto      9\n",
              "WestToronto         6\n",
              "EastToronto         5\n",
              "York                5\n",
              "EastYork            5\n",
              "Mississauga         1\n",
              "Name: Borough, dtype: int64"
            ]
          },
          "metadata": {
            "tags": []
          },
          "execution_count": 60
        }
      ]
    },
    {
      "cell_type": "markdown",
      "metadata": {
        "id": "Pu5BMjG-RWV3",
        "colab_type": "text"
      },
      "source": [
        "Let's work with only boroughs that contain the word York."
      ]
    },
    {
      "cell_type": "code",
      "metadata": {
        "id": "YJFQ2370JKt9",
        "colab_type": "code",
        "colab": {
          "base_uri": "https://localhost:8080/",
          "height": 212
        },
        "outputId": "d32030e9-e4fb-426d-f776-f8e69367b922"
      },
      "source": [
        "york_data = df_geo[df_geo['Borough'].str.contains(\"York\")].reset_index(drop=True)\n",
        "print(df_geo1.shape)\n",
        "york_data.head()"
      ],
      "execution_count": 61,
      "outputs": [
        {
          "output_type": "stream",
          "text": [
            "(34, 5)\n"
          ],
          "name": "stdout"
        },
        {
          "output_type": "execute_result",
          "data": {
            "text/html": [
              "<div>\n",
              "<style scoped>\n",
              "    .dataframe tbody tr th:only-of-type {\n",
              "        vertical-align: middle;\n",
              "    }\n",
              "\n",
              "    .dataframe tbody tr th {\n",
              "        vertical-align: top;\n",
              "    }\n",
              "\n",
              "    .dataframe thead th {\n",
              "        text-align: right;\n",
              "    }\n",
              "</style>\n",
              "<table border=\"1\" class=\"dataframe\">\n",
              "  <thead>\n",
              "    <tr style=\"text-align: right;\">\n",
              "      <th></th>\n",
              "      <th>PostalCode</th>\n",
              "      <th>Borough</th>\n",
              "      <th>Neighbourhood</th>\n",
              "      <th>Latitude</th>\n",
              "      <th>Longitude</th>\n",
              "    </tr>\n",
              "  </thead>\n",
              "  <tbody>\n",
              "    <tr>\n",
              "      <th>0</th>\n",
              "      <td>M2H</td>\n",
              "      <td>NorthYork</td>\n",
              "      <td>Hillcrest Village</td>\n",
              "      <td>43.803762</td>\n",
              "      <td>-79.363452</td>\n",
              "    </tr>\n",
              "    <tr>\n",
              "      <th>1</th>\n",
              "      <td>M2J</td>\n",
              "      <td>NorthYork</td>\n",
              "      <td>Fairview, Henry Farm, Oriole</td>\n",
              "      <td>43.778517</td>\n",
              "      <td>-79.346556</td>\n",
              "    </tr>\n",
              "    <tr>\n",
              "      <th>2</th>\n",
              "      <td>M2K</td>\n",
              "      <td>NorthYork</td>\n",
              "      <td>Bayview Village</td>\n",
              "      <td>43.786947</td>\n",
              "      <td>-79.385975</td>\n",
              "    </tr>\n",
              "    <tr>\n",
              "      <th>3</th>\n",
              "      <td>M2L</td>\n",
              "      <td>NorthYork</td>\n",
              "      <td>York Mills, Silver Hills</td>\n",
              "      <td>43.757490</td>\n",
              "      <td>-79.374714</td>\n",
              "    </tr>\n",
              "    <tr>\n",
              "      <th>4</th>\n",
              "      <td>M2M</td>\n",
              "      <td>NorthYork</td>\n",
              "      <td>Willowdale, Newtonbrook</td>\n",
              "      <td>43.789053</td>\n",
              "      <td>-79.408493</td>\n",
              "    </tr>\n",
              "  </tbody>\n",
              "</table>\n",
              "</div>"
            ],
            "text/plain": [
              "  PostalCode    Borough                 Neighbourhood   Latitude  Longitude\n",
              "0        M2H  NorthYork             Hillcrest Village  43.803762 -79.363452\n",
              "1        M2J  NorthYork  Fairview, Henry Farm, Oriole  43.778517 -79.346556\n",
              "2        M2K  NorthYork               Bayview Village  43.786947 -79.385975\n",
              "3        M2L  NorthYork      York Mills, Silver Hills  43.757490 -79.374714\n",
              "4        M2M  NorthYork       Willowdale, Newtonbrook  43.789053 -79.408493"
            ]
          },
          "metadata": {
            "tags": []
          },
          "execution_count": 61
        }
      ]
    },
    {
      "cell_type": "code",
      "metadata": {
        "id": "4QxiKXScCGn9",
        "colab_type": "code",
        "colab": {
          "base_uri": "https://localhost:8080/",
          "height": 34
        },
        "outputId": "3681f2dc-0ebe-4342-c360-ba2d513fa4ce"
      },
      "source": [
        "address = 'Toronto'\n",
        "\n",
        "geolocator = Nominatim(user_agent=\"my-application\")\n",
        "location = geolocator.geocode(address)\n",
        "latitude = location.latitude\n",
        "longitude = location.longitude\n",
        "print('The geograpical coordinate of Toronto are {}, {}.'.format(latitude, longitude))"
      ],
      "execution_count": 62,
      "outputs": [
        {
          "output_type": "stream",
          "text": [
            "The geograpical coordinate of Toronto are 43.6534817, -79.3839347.\n"
          ],
          "name": "stdout"
        }
      ]
    },
    {
      "cell_type": "code",
      "metadata": {
        "id": "kWPxm_OuTEg2",
        "colab_type": "code",
        "colab": {
          "base_uri": "https://localhost:8080/",
          "height": 649
        },
        "outputId": "957aff75-fcc6-4f61-cd28-69246ab9fab8"
      },
      "source": [
        "toronto_n = york_data\n",
        "map_toronto = folium.Map(location=[toronto_n['Latitude'].mean(), \n",
        "                                toronto_n['Longitude'].mean()], \n",
        "                      zoom_start=10)\n",
        "#creating a Marker for each point in df_sample. Each point will get a popup with their zip\n",
        "for row in toronto_n.itertuples():\n",
        "    map_toronto.add_child(folium.Marker(location=[row.Latitude ,row.Longitude],\n",
        "           popup=row.Neighbourhood))\n",
        "\n",
        "    \n",
        "map_toronto"
      ],
      "execution_count": 63,
      "outputs": [
        {
          "output_type": "execute_result",
          "data": {
            "text/html": [
              "<div style=\"width:100%;\"><div style=\"position:relative;width:100%;height:0;padding-bottom:60%;\"><span style=\"color:#565656\">Make this Notebook Trusted to load map: File -> Trust Notebook</span><iframe src=\"about:blank\" style=\"position:absolute;width:100%;height:100%;left:0;top:0;border:none !important;\" data-html=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 onload=\"this.contentDocument.open();this.contentDocument.write(atob(this.getAttribute('data-html')));this.contentDocument.close();\" allowfullscreen webkitallowfullscreen mozallowfullscreen></iframe></div></div>"
            ],
            "text/plain": [
              "<folium.folium.Map at 0x7f69cafaa3c8>"
            ]
          },
          "metadata": {
            "tags": []
          },
          "execution_count": 63
        }
      ]
    },
    {
      "cell_type": "code",
      "metadata": {
        "id": "QxzYOalNT7Os",
        "colab_type": "code",
        "cellView": "form",
        "colab": {}
      },
      "source": [
        "#@title Define Foursquare Credentials and Version\n",
        "\n",
        "CLIENT_ID = 'ELMIMCJNZZY1KMWXSOHYO35VZWTYNLJDLHRPURI4TFGYDJTL' # your Foursquare ID\n",
        "CLIENT_SECRET = '0CFJJ54D0TTSUT3KCC1D4CGHX5Y0SXMFII0DOXUQPX11PEWI' # your Foursquare Secret\n",
        "VERSION = '20200706' # Foursquare API version"
      ],
      "execution_count": 64,
      "outputs": []
    },
    {
      "cell_type": "markdown",
      "metadata": {
        "id": "CITuCkcsXqLm",
        "colab_type": "text"
      },
      "source": [
        "Let's create a function to obtain all the information about the venues from Foursquare"
      ]
    },
    {
      "cell_type": "code",
      "metadata": {
        "id": "EaA9yMLzbc22",
        "colab_type": "code",
        "colab": {}
      },
      "source": [
        "LIMIT = 100 # limit of number of venues returned by Foursquare API\n",
        "radius = 500 # define radius"
      ],
      "execution_count": 66,
      "outputs": []
    },
    {
      "cell_type": "code",
      "metadata": {
        "id": "je7l0OsdWQBI",
        "colab_type": "code",
        "colab": {}
      },
      "source": [
        "def getNearbyVenues(names, latitudes, longitudes, radius=500):\n",
        "    \n",
        "    venues_list=[]\n",
        "    for name, lat, lng in zip(names, latitudes, longitudes):\n",
        "        print(name)\n",
        "            \n",
        "        # create the API request URL\n",
        "        url = 'https://api.foursquare.com/v2/venues/explore?&client_id={}&client_secret={}&v={}&ll={},{}&radius={}&limit={}'.format(\n",
        "            CLIENT_ID, \n",
        "            CLIENT_SECRET, \n",
        "            VERSION, \n",
        "            lat, \n",
        "            lng, \n",
        "            radius, \n",
        "            LIMIT)\n",
        "            \n",
        "        # make the GET request\n",
        "        results = requests.get(url).json()[\"response\"]['groups'][0]['items']\n",
        "        \n",
        "        # return only relevant information for each nearby venue\n",
        "        venues_list.append([(\n",
        "            name, \n",
        "            lat, \n",
        "            lng, \n",
        "            v['venue']['name'], \n",
        "            v['venue']['location']['lat'], \n",
        "            v['venue']['location']['lng'],  \n",
        "            v['venue']['categories'][0]['name']) for v in results])\n",
        "\n",
        "    nearby_venues = pd.DataFrame([item for venue_list in venues_list for item in venue_list])\n",
        "    nearby_venues.columns = ['Neighborhood', \n",
        "                  'Neighborhood Latitude', \n",
        "                  'Neighborhood Longitude', \n",
        "                  'Venue', \n",
        "                  'Venue Latitude', \n",
        "                  'Venue Longitude', \n",
        "                  'Venue Category']\n",
        "    \n",
        "    return(nearby_venues)"
      ],
      "execution_count": 67,
      "outputs": []
    },
    {
      "cell_type": "code",
      "metadata": {
        "id": "1I0CExTGZhZv",
        "colab_type": "code",
        "colab": {
          "base_uri": "https://localhost:8080/",
          "height": 588
        },
        "outputId": "33d9e249-7f94-4af3-c1d6-2e11416cb07c"
      },
      "source": [
        "york_venues = getNearbyVenues(names=york_data['Neighbourhood'], latitudes=york_data['Latitude'], longitudes=york_data['Longitude'])"
      ],
      "execution_count": 68,
      "outputs": [
        {
          "output_type": "stream",
          "text": [
            "Hillcrest Village\n",
            "Fairview, Henry Farm, Oriole\n",
            "Bayview Village\n",
            "York Mills, Silver Hills\n",
            "Willowdale, Newtonbrook\n",
            "Willowdale, Willowdale East\n",
            "York Mills West\n",
            "Willowdale, Willowdale West\n",
            "Parkwoods\n",
            "Don Mills\n",
            "Don Mills\n",
            "Bathurst Manor, Wilson Heights, Downsview North\n",
            "Northwood Park, York University\n",
            "Downsview\n",
            "Downsview\n",
            "Downsview\n",
            "Downsview\n",
            "Victoria Village\n",
            "Parkview Hill, Woodbine Gardens\n",
            "Woodbine Heights\n",
            "Leaside\n",
            "Thorncliffe Park\n",
            "East Toronto, Broadview North (Old East York)\n",
            "Bedford Park, Lawrence Manor East\n",
            "Lawrence Manor, Lawrence Heights\n",
            "Glencairn\n",
            "Humewood-Cedarvale\n",
            "Caledonia-Fairbanks\n",
            "North Park, Maple Leaf Park, Upwood Park\n",
            "Del Ray, Mount Dennis, Keelsdale and Silverthorn\n",
            "Runnymede, The Junction North\n",
            "Humber Summit\n",
            "Humberlea, Emery\n",
            "Weston\n"
          ],
          "name": "stdout"
        }
      ]
    },
    {
      "cell_type": "code",
      "metadata": {
        "id": "bhLt8p8gazC3",
        "colab_type": "code",
        "colab": {}
      },
      "source": [
        ""
      ],
      "execution_count": null,
      "outputs": []
    }
  ]
}